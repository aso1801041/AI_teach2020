{
  "nbformat": 4,
  "nbformat_minor": 0,
  "metadata": {
    "colab": {
      "name": "2020AI0202-iris.ipynb",
      "provenance": [],
      "collapsed_sections": [],
      "authorship_tag": "ABX9TyM03ScaR97AxtbYyxBEltKC",
      "include_colab_link": true
    },
    "kernelspec": {
      "name": "python3",
      "display_name": "Python 3"
    }
  },
  "cells": [
    {
      "cell_type": "markdown",
      "metadata": {
        "id": "view-in-github",
        "colab_type": "text"
      },
      "source": [
        "<a href=\"https://colab.research.google.com/github/aso1801041/AI_teach2020/blob/master/2020AI0202_iris.ipynb\" target=\"_parent\"><img src=\"https://colab.research.google.com/assets/colab-badge.svg\" alt=\"Open In Colab\"/></a>"
      ]
    },
    {
      "cell_type": "markdown",
      "metadata": {
        "id": "V_53I1ZXWgQW"
      },
      "source": [
        "###アヤメの分類"
      ]
    },
    {
      "cell_type": "code",
      "metadata": {
        "id": "7pJrW8aISwBJ",
        "outputId": "5dd7c8a1-54eb-4bf9-9dbe-cdbcd3b86ab7",
        "colab": {
          "base_uri": "https://localhost:8080/",
          "height": 34
        }
      },
      "source": [
        "import urllib.request as req\n",
        "import pandas as pd\n",
        "from sklearn.model_selection import train_test_split\n",
        "from sklearn.svm import SVC\n",
        "from sklearn.metrics import accuracy_score\n",
        "\n",
        "#ファイルをダウンロード\n",
        "url = \"https://raw.githubusercontent.com/pandas-dev/pandas/master/pandas/tests/io/data/csv/iris.csv\"\n",
        "savefile = \"iris.csv\"\n",
        "req.urlretrieve(url, savefile)\n",
        "\n",
        "# ダウンロードしたファイル読み込む\n",
        "csv = pd.read_csv(savefile, encoding=\"utf-8\")\n",
        "\n",
        "#アヤメデータをラベルと入力データに分離する\n",
        "y = csv.loc[:,\"Name\"]\n",
        "x = csv.loc[:,[\"SepalLength\", \"SepalWidth\", \"PetalLength\", \"PetalWidth\"]]\n",
        "\n",
        "#学習用とテスト用のデータに分離する\n",
        "x_train, x_test, y_train, y_test = train_test_split(x, y, test_size = 0.2, train_size = 0.8, shuffle = True)\n",
        "\n",
        "#学習する\n",
        "clf = SVC()\n",
        "clf.fit(x_train, y_train)\n",
        "\n",
        "#評価する\n",
        "y_pred = clf.predict(x_test)\n",
        "print(\"正解率 = \", accuracy_score(y_test, y_pred))\n"
      ],
      "execution_count": null,
      "outputs": [
        {
          "output_type": "stream",
          "text": [
            "正解率 =  1.0\n"
          ],
          "name": "stdout"
        }
      ]
    },
    {
      "cell_type": "code",
      "metadata": {
        "id": "tRy6uLvhTFLX"
      },
      "source": [
        ""
      ],
      "execution_count": null,
      "outputs": []
    }
  ]
}