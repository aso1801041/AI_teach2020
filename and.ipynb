{
  "nbformat": 4,
  "nbformat_minor": 0,
  "metadata": {
    "colab": {
      "name": "and.ipynb",
      "provenance": [],
      "collapsed_sections": [],
      "authorship_tag": "ABX9TyOdDlFVQibwdEU2AQ60JUzg",
      "include_colab_link": true
    },
    "kernelspec": {
      "name": "python3",
      "display_name": "Python 3"
    }
  },
  "cells": [
    {
      "cell_type": "markdown",
      "metadata": {
        "id": "view-in-github",
        "colab_type": "text"
      },
      "source": [
        "<a href=\"https://colab.research.google.com/github/aso1801041/AI_teach2020/blob/master/and.ipynb\" target=\"_parent\"><img src=\"https://colab.research.google.com/assets/colab-badge.svg\" alt=\"Open In Colab\"/></a>"
      ]
    },
    {
      "cell_type": "markdown",
      "metadata": {
        "id": "EuKbX_kGq6eG"
      },
      "source": [
        "### AND演算をモデルに学ばせる(LinearSVC)"
      ]
    },
    {
      "cell_type": "code",
      "metadata": {
        "id": "xyS7uZlYrL6t",
        "outputId": "61201d92-837b-4454-8bd8-afb43c78ab0e",
        "colab": {
          "base_uri": "https://localhost:8080/",
          "height": 51
        }
      },
      "source": [
        "# ライブラリのインポート\n",
        "from sklearn.svm import LinearSVC\n",
        "from sklearn.metrics import accuracy_score\n",
        "\n",
        "#学習用データと結果の準備\n",
        "# X, Y\n",
        "learn_data = [[0,0],[1,0],[0,1],[1,1]]\n",
        "# X and Y\n",
        "learn_label = [0, 0, 0, 1]\n",
        "\n",
        "# アルゴリズムの指定\n",
        "clf = LinearSVC()\n",
        "\n",
        "# 学習用データと結果の学習\n",
        "clf.fit(learn_data, learn_label)\n",
        "\n",
        "#テストデータによる予測\n",
        "test_data = [[0,0],[1,0],[0,1],[1,1]]\n",
        "test_label = clf.predict(test_data)\n",
        "\n",
        "# 予測結果の評価\n",
        "print(test_data , \"の予測結果：\", test_label)\n",
        "print(\"正解率\", accuracy_score([0, 0, 0, 1], test_label))\n"
      ],
      "execution_count": 1,
      "outputs": [
        {
          "output_type": "stream",
          "text": [
            "[[0, 0], [1, 0], [0, 1], [1, 1]] の予測結果： [0 0 0 1]\n",
            "正解率 1.0\n"
          ],
          "name": "stdout"
        }
      ]
    },
    {
      "cell_type": "markdown",
      "metadata": {
        "id": "n23KR-XbwaJG"
      },
      "source": [
        "###XOR演算を実装する"
      ]
    },
    {
      "cell_type": "code",
      "metadata": {
        "id": "VXzMVvQgwlzt",
        "outputId": "30e7dd13-d8c1-4691-ac28-62ef029f7baa",
        "colab": {
          "base_uri": "https://localhost:8080/",
          "height": 51
        }
      },
      "source": [
        "#学習データと結果の準備\n",
        "# X, Y\n",
        "learn_data = [[0,0],[1,0],[0,1],[1,1]]\n",
        "# X xor Y\n",
        "leran_label = [0, 1, 1, 0]\n",
        "\n",
        "# アルゴリズムの指定\n",
        "clf = LinearSVC()\n",
        "\n",
        "# 学習用データと結果の学習\n",
        "clf.fit(learn_data, learn_label)\n",
        "\n",
        "#テストデータによる予測\n",
        "test_data = [[0,0],[1,0],[0,1],[1,1]]\n",
        "test_label = clf.predict(test_data)\n",
        "\n",
        "# 予測結果の評価\n",
        "print(test_data , \"の予測結果：\", test_label)\n",
        "print(\"正解率\", accuracy_score([0, 1, 1, 0], test_label))\n",
        "\n"
      ],
      "execution_count": 2,
      "outputs": [
        {
          "output_type": "stream",
          "text": [
            "[[0, 0], [1, 0], [0, 1], [1, 1]] の予測結果： [0 0 0 1]\n",
            "正解率 0.25\n"
          ],
          "name": "stdout"
        }
      ]
    },
    {
      "cell_type": "markdown",
      "metadata": {
        "id": "Gck9oUBgZWYU"
      },
      "source": [
        "## K近傍法でXOR演算を実装する"
      ]
    },
    {
      "cell_type": "code",
      "metadata": {
        "id": "-KPKSUk0Zqqr",
        "outputId": "7d6ecfb4-38c3-45c0-f834-76be0719e295",
        "colab": {
          "base_uri": "https://localhost:8080/",
          "height": 51
        }
      },
      "source": [
        "# ライブラリのインポート\n",
        "from sklearn.neighbors import KNeighborsClassifier\n",
        "from sklearn.metrics import accuracy_score\n",
        "\n",
        "#学習用データと結果の準備\n",
        "# X, Y\n",
        "learn_data = [[0,0],[1,0],[0,1],[1,1]]\n",
        "# X xor Y\n",
        "learn_label = [0, 1, 1, 0]\n",
        "\n",
        "# アルゴリズムの指定\n",
        "clf = KNeighborsClassifier(n_neighbors = 1)\n",
        "\n",
        "# 学習用データと結果の学習\n",
        "clf.fit(learn_data, learn_label)\n",
        "\n",
        "#テストデータによる予測\n",
        "test_data = [[0,0],[1,0],[0,1],[1,1]]\n",
        "test_label = clf.predict(test_data)\n",
        "\n",
        "# 予測結果の評価\n",
        "print(test_data , \"の予測結果：\", test_label)\n",
        "print(\"正解率\", accuracy_score([0, 1, 1, 0], test_label))\n"
      ],
      "execution_count": 3,
      "outputs": [
        {
          "output_type": "stream",
          "text": [
            "[[0, 0], [1, 0], [0, 1], [1, 1]] の予測結果： [0 1 1 0]\n",
            "正解率 1.0\n"
          ],
          "name": "stdout"
        }
      ]
    },
    {
      "cell_type": "code",
      "metadata": {
        "id": "GfU6SxyAZ-G-"
      },
      "source": [
        ""
      ],
      "execution_count": null,
      "outputs": []
    }
  ]
}