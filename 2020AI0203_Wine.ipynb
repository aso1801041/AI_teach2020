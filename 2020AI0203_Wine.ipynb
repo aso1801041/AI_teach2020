{
  "nbformat": 4,
  "nbformat_minor": 0,
  "metadata": {
    "colab": {
      "name": "2020AI0203-Wine.ipynb",
      "provenance": [],
      "collapsed_sections": [],
      "authorship_tag": "ABX9TyMW+I5cG4GKNs8k398LSpnq",
      "include_colab_link": true
    },
    "kernelspec": {
      "name": "python3",
      "display_name": "Python 3"
    }
  },
  "cells": [
    {
      "cell_type": "markdown",
      "metadata": {
        "id": "view-in-github",
        "colab_type": "text"
      },
      "source": [
        "<a href=\"https://colab.research.google.com/github/aso1801041/AI_teach2020/blob/master/2020AI0203_Wine.ipynb\" target=\"_parent\"><img src=\"https://colab.research.google.com/assets/colab-badge.svg\" alt=\"Open In Colab\"/></a>"
      ]
    },
    {
      "cell_type": "markdown",
      "metadata": {
        "id": "ycTZa4degihe"
      },
      "source": [
        "##ワインの分類"
      ]
    },
    {
      "cell_type": "code",
      "metadata": {
        "id": "ue4BmmYvgmHn",
        "outputId": "04994f7d-6f50-4687-be18-78086283c2c2",
        "colab": {
          "base_uri": "https://localhost:8080/"
        }
      },
      "source": [
        "from urllib.request import urlretrieve\n",
        "import pandas as pd\n",
        "from sklearn.model_selection import train_test_split\n",
        "from sklearn.ensemble import RandomForestClassifier\n",
        "from sklearn.metrics import accuracy_score\n",
        "from sklearn.metrics import classification_report\n",
        "\n",
        "\n",
        "url = \"https://archive.ics.uci.edu/ml/machine-learning-databases/wine-quality/winequality-white.csv\"\n",
        "savepath = \"winequality-white.csv\"\n",
        "urlretrieve(url, savepath)\n",
        "wine = pd.read_csv(savepath, sep=\";\", encoding=\"utf-8\")\n",
        "\n",
        "y = wine[\"quality\"]\n",
        "x = wine.drop(\"quality\", axis=1)\n",
        "\n",
        "# ラベルデータの10段階ランクを３段階のランクに値を修正してつけなおす\n",
        "# 目的変数（ラベル）の値をつけなおす\n",
        "newlist = []\n",
        "for v in list(y):\n",
        "  if v <= 4:\n",
        "    newlist += [0]\n",
        "  elif v <= 7:\n",
        "    newlist += [1]\n",
        "  else:\n",
        "    newlist += [2]\n",
        "y = newlist\n",
        "x_train, x_test, y_train, y_test = train_test_split(x, y, test_size = 0.2)\n",
        "\n",
        "model = RandomForestClassifier()\n",
        "model.fit(x_train, y_train)\n",
        "\n",
        "y_pred = model.predict(x_test)\n",
        "print(classification_report(y_test, y_pred))\n",
        "print(\"正解率=\", accuracy_score(y_test, y_pred))\n"
      ],
      "execution_count": 19,
      "outputs": [
        {
          "output_type": "stream",
          "text": [
            "              precision    recall  f1-score   support\n",
            "\n",
            "           0       0.71      0.14      0.23        37\n",
            "           1       0.93      1.00      0.96       896\n",
            "           2       0.88      0.32      0.47        47\n",
            "\n",
            "    accuracy                           0.93       980\n",
            "   macro avg       0.84      0.48      0.55       980\n",
            "weighted avg       0.92      0.93      0.91       980\n",
            "\n",
            "正解率= 0.9306122448979591\n"
          ],
          "name": "stdout"
        }
      ]
    },
    {
      "cell_type": "code",
      "metadata": {
        "id": "YRMngBTTg26c"
      },
      "source": [
        ""
      ],
      "execution_count": null,
      "outputs": []
    }
  ]
}